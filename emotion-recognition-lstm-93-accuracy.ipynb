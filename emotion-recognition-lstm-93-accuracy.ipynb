{
 "cells": [
  {
   "cell_type": "code",
   "execution_count": 1,
   "id": "77967069",
   "metadata": {
    "_cell_guid": "b1076dfc-b9ad-4769-8c92-a6c4dae69d19",
    "_uuid": "8f2839f25d086af736a60e9eeb907d3b93b6e0e5",
    "execution": {
     "iopub.execute_input": "2021-10-28T22:03:51.100009Z",
     "iopub.status.busy": "2021-10-28T22:03:51.098488Z",
     "iopub.status.idle": "2021-10-28T22:03:56.523748Z",
     "shell.execute_reply": "2021-10-28T22:03:56.522779Z",
     "shell.execute_reply.started": "2021-10-28T16:49:56.359565Z"
    },
    "papermill": {
     "duration": 5.440697,
     "end_time": "2021-10-28T22:03:56.523906",
     "exception": false,
     "start_time": "2021-10-28T22:03:51.083209",
     "status": "completed"
    },
    "tags": []
   },
   "outputs": [],
   "source": [
    "import re\n",
    "import string\n",
    "import numpy as np\n",
    "import pandas as pd\n",
    "import matplotlib.pyplot as plt\n",
    "\n",
    "from sklearn.preprocessing import LabelEncoder\n",
    "from sklearn.model_selection import train_test_split\n",
    "\n",
    "from tensorflow.keras.utils import to_categorical\n",
    "from tensorflow.keras.preprocessing.text import Tokenizer\n",
    "from tensorflow.keras.preprocessing.sequence import pad_sequences\n",
    "\n",
    "from tensorflow.keras.optimizers import Adam\n",
    "from tensorflow.keras.models import Sequential\n",
    "from tensorflow.keras.callbacks import EarlyStopping\n",
    "from tensorflow.keras.layers import Dense, LSTM, Embedding, Bidirectional"
   ]
  },
  {
   "cell_type": "code",
   "execution_count": 2,
   "id": "5f7714a0",
   "metadata": {
    "execution": {
     "iopub.execute_input": "2021-10-28T22:03:56.551349Z",
     "iopub.status.busy": "2021-10-28T22:03:56.550640Z",
     "iopub.status.idle": "2021-10-28T22:03:56.552770Z",
     "shell.execute_reply": "2021-10-28T22:03:56.553151Z",
     "shell.execute_reply.started": "2021-10-28T16:49:24.708271Z"
    },
    "papermill": {
     "duration": 0.017118,
     "end_time": "2021-10-28T22:03:56.553277",
     "exception": false,
     "start_time": "2021-10-28T22:03:56.536159",
     "status": "completed"
    },
    "tags": []
   },
   "outputs": [],
   "source": [
    "# Text preprocessing function\n",
    "\n",
    "str_punc = string.punctuation.replace(',', '').replace(\"'\",'')\n",
    "\n",
    "def clean(text):\n",
    "    global str_punc\n",
    "    text = re.sub(r'[^a-zA-Z ]', '', text)\n",
    "    text = text.lower()\n",
    "    return text    "
   ]
  },
  {
   "cell_type": "code",
   "execution_count": 3,
   "id": "858eb45b",
   "metadata": {
    "execution": {
     "iopub.execute_input": "2021-10-28T22:03:56.580397Z",
     "iopub.status.busy": "2021-10-28T22:03:56.579859Z",
     "iopub.status.idle": "2021-10-28T22:03:56.744022Z",
     "shell.execute_reply": "2021-10-28T22:03:56.743141Z",
     "shell.execute_reply.started": "2021-10-28T17:00:39.849404Z"
    },
    "papermill": {
     "duration": 0.180689,
     "end_time": "2021-10-28T22:03:56.744157",
     "exception": false,
     "start_time": "2021-10-28T22:03:56.563468",
     "status": "completed"
    },
    "tags": []
   },
   "outputs": [],
   "source": [
    "# Read dataset & Preprocess text\n",
    "# dataset = pd.read_csv('../input/isear-emotion/isear_dataset.csv')\n",
    "df_train = pd.read_csv('../input/emotions-dataset-for-nlp/train.txt', names=['Text', 'Emotion'], sep=';')\n",
    "df_val = pd.read_csv('../input/emotions-dataset-for-nlp/val.txt', names=['Text', 'Emotion'], sep=';')\n",
    "df_test = pd.read_csv('../input/emotions-dataset-for-nlp/test.txt', names=['Text', 'Emotion'], sep=';')\n",
    "\n",
    "X_train = df_train['Text'].apply(clean)\n",
    "y_train = df_train['Emotion']\n",
    "\n",
    "X_test = df_test['Text'].apply(clean)\n",
    "y_test = df_test['Emotion']\n",
    "\n",
    "X_val = df_val['Text'].apply(clean)\n",
    "y_val = df_val['Emotion']"
   ]
  },
  {
   "cell_type": "code",
   "execution_count": 4,
   "id": "f668a376",
   "metadata": {
    "execution": {
     "iopub.execute_input": "2021-10-28T22:03:56.774729Z",
     "iopub.status.busy": "2021-10-28T22:03:56.773803Z",
     "iopub.status.idle": "2021-10-28T22:03:57.481426Z",
     "shell.execute_reply": "2021-10-28T22:03:57.481975Z",
     "shell.execute_reply.started": "2021-10-28T17:00:42.264285Z"
    },
    "papermill": {
     "duration": 0.727475,
     "end_time": "2021-10-28T22:03:57.482135",
     "exception": false,
     "start_time": "2021-10-28T22:03:56.754660",
     "status": "completed"
    },
    "tags": []
   },
   "outputs": [
    {
     "data": {
      "image/png": "[encoded data removed]",
      "text/plain": [
       "<Figure size 432x288 with 1 Axes>"
      ]
     },
     "metadata": {
      "needs_background": "light"
     },
     "output_type": "display_data"
    },
    {
     "data": {
      "image/png": "[encoded data removed]",
      "text/plain": [
       "<Figure size 432x288 with 1 Axes>"
      ]
     },
     "metadata": {
      "needs_background": "light"
     },
     "output_type": "display_data"
    },
    {
     "data": {
      "image/png": "[encoded data removed]",
      "text/plain": [
       "<Figure size 432x288 with 1 Axes>"
      ]
     },
     "metadata": {
      "needs_background": "light"
     },
     "output_type": "display_data"
    }
   ],
   "source": [
    "# Visualize classes counts\n",
    "colors = np.array([\"gray\", 'orangered', 'hotpink', 'gold', 'teal', 'cornflowerblue'])\n",
    "\n",
    "plt.bar(y_train.unique(),height=y_train.value_counts(), color=colors)\n",
    "plt.title(\"Training data - classes counts\")\n",
    "plt.show()\n",
    "\n",
    "plt.bar(y_test.unique(),height=y_test.value_counts(), color=colors)\n",
    "plt.title(\"Testing data - classes counts\")\n",
    "plt.show()\n",
    "\n",
    "plt.bar(y_val.unique(),height=y_val.value_counts(), color=colors)\n",
    "plt.title(\"Validation data - classes counts\")\n",
    "plt.show()"
   ]
  },
  {
   "cell_type": "code",
   "execution_count": 5,
   "id": "1d002f96",
   "metadata": {
    "execution": {
     "iopub.execute_input": "2021-10-28T22:03:57.517184Z",
     "iopub.status.busy": "2021-10-28T22:03:57.515254Z",
     "iopub.status.idle": "2021-10-28T22:03:57.520913Z",
     "shell.execute_reply": "2021-10-28T22:03:57.521323Z",
     "shell.execute_reply.started": "2021-10-28T17:01:21.727018Z"
    },
    "papermill": {
     "duration": 0.026429,
     "end_time": "2021-10-28T22:03:57.521456",
     "exception": false,
     "start_time": "2021-10-28T22:03:57.495027",
     "status": "completed"
    },
    "tags": []
   },
   "outputs": [],
   "source": [
    "# Encode labels\n",
    "\n",
    "le = LabelEncoder()\n",
    "y_train = le.fit_transform(y_train)\n",
    "y_test = le.transform(y_test)\n",
    "y_val = le.transform(y_val)\n",
    "\n",
    "y_train = to_categorical(y_train)\n",
    "y_test = to_categorical(y_test)\n",
    "y_val = to_categorical(y_val)"
   ]
  },
  {
   "cell_type": "code",
   "execution_count": 6,
   "id": "f3d52aea",
   "metadata": {
    "execution": {
     "iopub.execute_input": "2021-10-28T22:03:57.551792Z",
     "iopub.status.busy": "2021-10-28T22:03:57.550965Z",
     "iopub.status.idle": "2021-10-28T22:03:58.400120Z",
     "shell.execute_reply": "2021-10-28T22:03:58.399644Z",
     "shell.execute_reply.started": "2021-10-28T17:01:29.161484Z"
    },
    "papermill": {
     "duration": 0.866741,
     "end_time": "2021-10-28T22:03:58.400253",
     "exception": false,
     "start_time": "2021-10-28T22:03:57.533512",
     "status": "completed"
    },
    "tags": []
   },
   "outputs": [
    {
     "name": "stdout",
     "output_type": "stream",
     "text": [
      "Vocabulary size = 16185\n"
     ]
    }
   ],
   "source": [
    "\n",
    "# Tokenize words\n",
    "tokenizer = Tokenizer()\n",
    "tokenizer.fit_on_texts(pd.concat([X_train, X_test], axis=0))\n",
    "\n",
    "\n",
    "sequences_train = tokenizer.texts_to_sequences(X_train)\n",
    "sequences_test = tokenizer.texts_to_sequences(X_test)\n",
    "sequences_val = tokenizer.texts_to_sequences(X_val)\n",
    "\n",
    "X_train = pad_sequences(sequences_train, maxlen=256, truncating='pre')\n",
    "X_test = pad_sequences(sequences_test, maxlen=256, truncating='pre')\n",
    "X_val = pad_sequences(sequences_val, maxlen=256, truncating='pre')\n",
    "\n",
    "vocabSize = len(tokenizer.index_word) + 1\n",
    "print(f\"Vocabulary size = {vocabSize}\")"
   ]
  },
  {
   "cell_type": "code",
   "execution_count": 7,
   "id": "a2ee989a",
   "metadata": {
    "execution": {
     "iopub.execute_input": "2021-10-28T22:03:58.433128Z",
     "iopub.status.busy": "2021-10-28T22:03:58.432428Z",
     "iopub.status.idle": "2021-10-28T22:04:22.438636Z",
     "shell.execute_reply": "2021-10-28T22:04:22.439229Z",
     "shell.execute_reply.started": "2021-10-28T17:01:33.740619Z"
    },
    "papermill": {
     "duration": 24.026047,
     "end_time": "2021-10-28T22:04:22.439418",
     "exception": false,
     "start_time": "2021-10-28T22:03:58.413371",
     "status": "completed"
    },
    "tags": []
   },
   "outputs": [
    {
     "name": "stdout",
     "output_type": "stream",
     "text": [
      "Found 400000 word vectors.\n",
      "Converted 15069 words (1115 misses)\n"
     ]
    }
   ],
   "source": [
    "# Read GloVE embeddings\n",
    "\n",
    "path_to_glove_file = '../input/glove-global-vectors-for-word-representation/glove.6B.200d.txt'\n",
    "num_tokens = vocabSize\n",
    "embedding_dim = 200\n",
    "hits = 0\n",
    "misses = 0\n",
    "embeddings_index = {}\n",
    "\n",
    "# Read word vectors\n",
    "with open(path_to_glove_file) as f:\n",
    "    for line in f:\n",
    "        word, coefs = line.split(maxsplit=1)\n",
    "        coefs = np.fromstring(coefs, \"f\", sep=\" \")\n",
    "        embeddings_index[word] = coefs\n",
    "print(\"Found %s word vectors.\" % len(embeddings_index))\n",
    "\n",
    "\n",
    "# Assign word vectors to our dictionary/vocabulary\n",
    "embedding_matrix = np.zeros((num_tokens, embedding_dim))\n",
    "for word, i in tokenizer.word_index.items():\n",
    "    embedding_vector = embeddings_index.get(word)\n",
    "    if embedding_vector is not None:\n",
    "        # Words not found in embedding index will be all-zeros.\n",
    "        # This includes the representation for \"padding\" and \"OOV\"\n",
    "        embedding_matrix[i] = embedding_vector\n",
    "        hits += 1\n",
    "    else:\n",
    "        misses += 1\n",
    "print(\"Converted %d words (%d misses)\" % (hits, misses))"
   ]
  },
  {
   "cell_type": "code",
   "execution_count": 8,
   "id": "acdb86ed",
   "metadata": {
    "execution": {
     "iopub.execute_input": "2021-10-28T22:04:22.472619Z",
     "iopub.status.busy": "2021-10-28T22:04:22.471968Z",
     "iopub.status.idle": "2021-10-28T22:04:25.605754Z",
     "shell.execute_reply": "2021-10-28T22:04:25.606431Z",
     "shell.execute_reply.started": "2021-10-28T17:02:11.519339Z"
    },
    "papermill": {
     "duration": 3.153457,
     "end_time": "2021-10-28T22:04:25.606627",
     "exception": false,
     "start_time": "2021-10-28T22:04:22.453170",
     "status": "completed"
    },
    "tags": []
   },
   "outputs": [
    {
     "name": "stderr",
     "output_type": "stream",
     "text": [
      "2021-10-28 22:04:22.538679: I tensorflow/stream_executor/cuda/cuda_gpu_executor.cc:937] successful NUMA node read from SysFS had negative value (-1), but there must be at least one NUMA node, so returning NUMA node zero\n",
      "2021-10-28 22:04:22.636652: I tensorflow/stream_executor/cuda/cuda_gpu_executor.cc:937] successful NUMA node read from SysFS had negative value (-1), but there must be at least one NUMA node, so returning NUMA node zero\n",
      "2021-10-28 22:04:22.637374: I tensorflow/stream_executor/cuda/cuda_gpu_executor.cc:937] successful NUMA node read from SysFS had negative value (-1), but there must be at least one NUMA node, so returning NUMA node zero\n",
      "2021-10-28 22:04:22.639331: I tensorflow/core/platform/cpu_feature_guard.cc:142] This TensorFlow binary is optimized with oneAPI Deep Neural Network Library (oneDNN) to use the following CPU instructions in performance-critical operations:  AVX2 AVX512F FMA\n",
      "To enable them in other operations, rebuild TensorFlow with the appropriate compiler flags.\n",
      "2021-10-28 22:04:22.640288: I tensorflow/stream_executor/cuda/cuda_gpu_executor.cc:937] successful NUMA node read from SysFS had negative value (-1), but there must be at least one NUMA node, so returning NUMA node zero\n",
      "2021-10-28 22:04:22.641053: I tensorflow/stream_executor/cuda/cuda_gpu_executor.cc:937] successful NUMA node read from SysFS had negative value (-1), but there must be at least one NUMA node, so returning NUMA node zero\n",
      "2021-10-28 22:04:22.641762: I tensorflow/stream_executor/cuda/cuda_gpu_executor.cc:937] successful NUMA node read from SysFS had negative value (-1), but there must be at least one NUMA node, so returning NUMA node zero\n",
      "2021-10-28 22:04:24.546260: I tensorflow/stream_executor/cuda/cuda_gpu_executor.cc:937] successful NUMA node read from SysFS had negative value (-1), but there must be at least one NUMA node, so returning NUMA node zero\n",
      "2021-10-28 22:04:24.547106: I tensorflow/stream_executor/cuda/cuda_gpu_executor.cc:937] successful NUMA node read from SysFS had negative value (-1), but there must be at least one NUMA node, so returning NUMA node zero\n",
      "2021-10-28 22:04:24.547766: I tensorflow/stream_executor/cuda/cuda_gpu_executor.cc:937] successful NUMA node read from SysFS had negative value (-1), but there must be at least one NUMA node, so returning NUMA node zero\n",
      "2021-10-28 22:04:24.548345: I tensorflow/core/common_runtime/gpu/gpu_device.cc:1510] Created device /job:localhost/replica:0/task:0/device:GPU:0 with 15403 MB memory:  -> device: 0, name: Tesla P100-PCIE-16GB, pci bus id: 0000:00:04.0, compute capability: 6.0\n"
     ]
    },
    {
     "name": "stdout",
     "output_type": "stream",
     "text": [
      "Model: \"sequential\"\n",
      "_________________________________________________________________\n",
      "Layer (type)                 Output Shape              Param #   \n",
      "=================================================================\n",
      "embedding (Embedding)        (None, 256, 200)          3237000   \n",
      "_________________________________________________________________\n",
      "bidirectional (Bidirectional (None, 256, 512)          935936    \n",
      "_________________________________________________________________\n",
      "bidirectional_1 (Bidirection (None, 256, 256)          656384    \n",
      "_________________________________________________________________\n",
      "bidirectional_2 (Bidirection (None, 256)               394240    \n",
      "_________________________________________________________________\n",
      "dense (Dense)                (None, 6)                 1542      \n",
      "=================================================================\n",
      "Total params: 5,225,102\n",
      "Trainable params: 1,988,102\n",
      "Non-trainable params: 3,237,000\n",
      "_________________________________________________________________\n"
     ]
    }
   ],
   "source": [
    "# Build neural network architecture\n",
    "\n",
    "adam = Adam(learning_rate=0.005)\n",
    "\n",
    "model = Sequential()\n",
    "model.add(Embedding(vocabSize, 200, input_length=X_train.shape[1], weights=[embedding_matrix], trainable=False))\n",
    "model.add(Bidirectional(LSTM(256, dropout=0.2,recurrent_dropout=0.2, return_sequences=True)))\n",
    "model.add(Bidirectional(LSTM(128, dropout=0.2,recurrent_dropout=0.2, return_sequences=True)))\n",
    "model.add(Bidirectional(LSTM(128, dropout=0.2,recurrent_dropout=0.2)))\n",
    "model.add(Dense(6, activation='softmax'))\n",
    "\n",
    "model.compile(loss='categorical_crossentropy', optimizer=adam, metrics=['accuracy'])\n",
    "model.summary()"
   ]
  },
  {
   "cell_type": "code",
   "execution_count": 9,
   "id": "cda9292a",
   "metadata": {
    "execution": {
     "iopub.execute_input": "2021-10-28T22:04:25.639616Z",
     "iopub.status.busy": "2021-10-28T22:04:25.639046Z",
     "iopub.status.idle": "2021-10-28T22:04:25.642392Z",
     "shell.execute_reply": "2021-10-28T22:04:25.642780Z",
     "shell.execute_reply.started": "2021-10-28T17:02:20.558037Z"
    },
    "papermill": {
     "duration": 0.021177,
     "end_time": "2021-10-28T22:04:25.642906",
     "exception": false,
     "start_time": "2021-10-28T22:04:25.621729",
     "status": "completed"
    },
    "tags": []
   },
   "outputs": [],
   "source": [
    "callback = EarlyStopping(\n",
    "    monitor=\"val_loss\",\n",
    "    patience=2,\n",
    "    restore_best_weights=True,\n",
    ")"
   ]
  },
  {
   "cell_type": "code",
   "execution_count": 10,
   "id": "ff49d9ac",
   "metadata": {
    "execution": {
     "iopub.execute_input": "2021-10-28T22:04:25.673966Z",
     "iopub.status.busy": "2021-10-28T22:04:25.673274Z",
     "iopub.status.idle": "2021-10-28T23:20:01.827222Z",
     "shell.execute_reply": "2021-10-28T23:20:01.826757Z",
     "shell.execute_reply.started": "2021-10-28T17:02:22.581141Z"
    },
    "papermill": {
     "duration": 4536.171191,
     "end_time": "2021-10-28T23:20:01.827358",
     "exception": false,
     "start_time": "2021-10-28T22:04:25.656167",
     "status": "completed"
    },
    "tags": []
   },
   "outputs": [
    {
     "name": "stdout",
     "output_type": "stream",
     "text": [
      "Epoch 1/10\n"
     ]
    },
    {
     "name": "stderr",
     "output_type": "stream",
     "text": [
      "2021-10-28 22:04:25.728881: I tensorflow/compiler/mlir/mlir_graph_optimization_pass.cc:185] None of the MLIR Optimization Passes are enabled (registered 2)\n"
     ]
    },
    {
     "name": "stdout",
     "output_type": "stream",
     "text": [
      "63/63 [==============================] - 466s 7s/step - loss: 1.5958 - accuracy: 0.3412 - val_loss: 1.4975 - val_accuracy: 0.4455\n",
      "Epoch 2/10\n",
      "63/63 [==============================] - 455s 7s/step - loss: 1.2634 - accuracy: 0.5364 - val_loss: 1.0428 - val_accuracy: 0.6020\n",
      "Epoch 3/10\n",
      "63/63 [==============================] - 454s 7s/step - loss: 0.9634 - accuracy: 0.6313 - val_loss: 0.7217 - val_accuracy: 0.7405\n",
      "Epoch 4/10\n",
      "63/63 [==============================] - 458s 7s/step - loss: 0.5491 - accuracy: 0.8031 - val_loss: 0.3456 - val_accuracy: 0.8795\n",
      "Epoch 5/10\n",
      "63/63 [==============================] - 450s 7s/step - loss: 0.2486 - accuracy: 0.9054 - val_loss: 0.2339 - val_accuracy: 0.9055\n",
      "Epoch 6/10\n",
      "63/63 [==============================] - 448s 7s/step - loss: 0.1717 - accuracy: 0.9283 - val_loss: 0.1922 - val_accuracy: 0.9125\n",
      "Epoch 7/10\n",
      "63/63 [==============================] - 449s 7s/step - loss: 0.1354 - accuracy: 0.9381 - val_loss: 0.1551 - val_accuracy: 0.9255\n",
      "Epoch 8/10\n",
      "63/63 [==============================] - 453s 7s/step - loss: 0.1054 - accuracy: 0.9470 - val_loss: 0.1446 - val_accuracy: 0.9240\n",
      "Epoch 9/10\n",
      "63/63 [==============================] - 453s 7s/step - loss: 0.0970 - accuracy: 0.9528 - val_loss: 0.1500 - val_accuracy: 0.9265\n",
      "Epoch 10/10\n",
      "63/63 [==============================] - 450s 7s/step - loss: 0.0891 - accuracy: 0.9589 - val_loss: 0.1947 - val_accuracy: 0.9235\n"
     ]
    }
   ],
   "source": [
    "# Fit model\n",
    "history = model.fit(X_train,\n",
    "                    y_train,\n",
    "                    validation_data=(X_test, y_test),\n",
    "                    verbose=1,\n",
    "                    batch_size=256,\n",
    "                    epochs=10,\n",
    "                    callbacks=[callback]\n",
    "                   )"
   ]
  },
  {
   "cell_type": "code",
   "execution_count": 11,
   "id": "806188df",
   "metadata": {
    "execution": {
     "iopub.execute_input": "2021-10-28T23:20:02.199902Z",
     "iopub.status.busy": "2021-10-28T23:20:02.199061Z",
     "iopub.status.idle": "2021-10-28T23:21:26.796715Z",
     "shell.execute_reply": "2021-10-28T23:21:26.795827Z",
     "shell.execute_reply.started": "2021-10-28T17:14:45.656399Z"
    },
    "papermill": {
     "duration": 84.78471,
     "end_time": "2021-10-28T23:21:26.797041",
     "exception": false,
     "start_time": "2021-10-28T23:20:02.012331",
     "status": "completed"
    },
    "tags": []
   },
   "outputs": [
    {
     "name": "stdout",
     "output_type": "stream",
     "text": [
      "63/63 [==============================] - 26s 420ms/step - loss: 0.1389 - accuracy: 0.9290\n"
     ]
    },
    {
     "data": {
      "text/plain": [
       "[0.13890628516674042, 0.9290000200271606]"
      ]
     },
     "execution_count": 11,
     "metadata": {},
     "output_type": "execute_result"
    }
   ],
   "source": [
    "model.evaluate(X_val, y_val, verbose=1)"
   ]
  },
  {
   "cell_type": "code",
   "execution_count": 12,
   "id": "ac04049c",
   "metadata": {
    "execution": {
     "iopub.execute_input": "2021-10-28T23:21:27.352847Z",
     "iopub.status.busy": "2021-10-28T23:21:27.351975Z",
     "iopub.status.idle": "2021-10-28T23:21:27.748054Z",
     "shell.execute_reply": "2021-10-28T23:21:27.748423Z",
     "shell.execute_reply.started": "2021-10-28T17:15:31.083557Z"
    },
    "papermill": {
     "duration": 0.606303,
     "end_time": "2021-10-28T23:21:27.748569",
     "exception": false,
     "start_time": "2021-10-28T23:21:27.142266",
     "status": "completed"
    },
    "tags": []
   },
   "outputs": [
    {
     "data": {
      "image/png": "[encoded data removed]",
      "text/plain": [
       "<Figure size 432x288 with 1 Axes>"
      ]
     },
     "metadata": {
      "needs_background": "light"
     },
     "output_type": "display_data"
    },
    {
     "data": {
      "image/png": "[encoded data removed]",
      "text/plain": [
       "<Figure size 432x288 with 1 Axes>"
      ]
     },
     "metadata": {
      "needs_background": "light"
     },
     "output_type": "display_data"
    }
   ],
   "source": [
    "# Visualize Loss & Accuracy\n",
    "\n",
    "%matplotlib inline\n",
    "import matplotlib.pyplot as plt\n",
    "acc = history.history['accuracy']\n",
    "val_acc = history.history['val_accuracy']\n",
    "loss = history.history['loss']\n",
    "val_loss = history.history['val_loss']\n",
    "\n",
    "epochs = range(len(acc))\n",
    "\n",
    "plt.plot(epochs, acc, 'r', label='Training accuracy')\n",
    "plt.plot(epochs, val_acc, 'b', label='Validation accuracy')\n",
    "plt.title('Training and validation accuracy')\n",
    "plt.legend()\n",
    "plt.figure()\n",
    "\n",
    "plt.plot(epochs, loss, 'r', label='Training Loss')\n",
    "plt.plot(epochs, val_loss, 'b', label='Validation Loss')\n",
    "plt.title('Training and validation loss')\n",
    "plt.legend()\n",
    "\n",
    "plt.show()"
   ]
  },
  {
   "cell_type": "code",
   "execution_count": 13,
   "id": "8498e611",
   "metadata": {
    "execution": {
     "iopub.execute_input": "2021-10-28T23:21:28.154804Z",
     "iopub.status.busy": "2021-10-28T23:21:28.153964Z",
     "iopub.status.idle": "2021-10-28T23:21:32.811837Z",
     "shell.execute_reply": "2021-10-28T23:21:32.811150Z",
     "shell.execute_reply.started": "2021-10-28T17:15:46.845813Z"
    },
    "papermill": {
     "duration": 4.866031,
     "end_time": "2021-10-28T23:21:32.812013",
     "exception": false,
     "start_time": "2021-10-28T23:21:27.945982",
     "status": "completed"
    },
    "tags": []
   },
   "outputs": [
    {
     "name": "stdout",
     "output_type": "stream",
     "text": [
      "He's over the moon about being accepted to the university\n",
      "joy : 0.9680588245391846\n",
      "\n",
      "\n",
      "Your point on this certain matter made me outrageous, how can you say so? This is insane.\n",
      "anger : 0.5513092875480652\n",
      "\n",
      "\n",
      "I can't do it, I'm not ready to lose anything, just leave me alone\n",
      "fear : 0.448776513338089\n",
      "\n",
      "\n",
      "Merlin's beard harry, you can cast the Patronus charm! I'm amazed!\n",
      "surprise : 0.8797177076339722\n",
      "\n",
      "\n"
     ]
    }
   ],
   "source": [
    "# Classify custom sample\n",
    "\n",
    "sentences = [\n",
    "            \"He's over the moon about being accepted to the university\",\n",
    "            \"Your point on this certain matter made me outrageous, how can you say so? This is insane.\",\n",
    "            \"I can't do it, I'm not ready to lose anything, just leave me alone\",\n",
    "            \"Merlin's beard harry, you can cast the Patronus charm! I'm amazed!\"\n",
    "            ]\n",
    "for sentence in sentences:\n",
    "    print(sentence)\n",
    "    sentence = clean(sentence)\n",
    "    sentence = tokenizer.texts_to_sequences([sentence])\n",
    "    sentence = pad_sequences(sentence, maxlen=256, truncating='pre')\n",
    "    result = le.inverse_transform(np.argmax(model.predict(sentence), axis=-1))[0]\n",
    "    proba =  np.max(model.predict(sentence))\n",
    "    print(f\"{result} : {proba}\\n\\n\")"
   ]
  },
  {
   "cell_type": "code",
   "execution_count": 14,
   "id": "55928b50",
   "metadata": {
    "execution": {
     "iopub.execute_input": "2021-10-28T23:21:33.238523Z",
     "iopub.status.busy": "2021-10-28T23:21:33.223956Z",
     "iopub.status.idle": "2021-10-28T23:21:33.356159Z",
     "shell.execute_reply": "2021-10-28T23:21:33.356662Z"
    },
    "papermill": {
     "duration": 0.340639,
     "end_time": "2021-10-28T23:21:33.356835",
     "exception": false,
     "start_time": "2021-10-28T23:21:33.016196",
     "status": "completed"
    },
    "tags": []
   },
   "outputs": [],
   "source": [
    "import pickle\n",
    "with open('tokenizer.pickle', 'wb') as f:\n",
    "    pickle.dump(tokenizer, f)\n",
    "    \n",
    "with open('labelEncoder.pickle', 'wb') as f:\n",
    "    pickle.dump(le, f)\n",
    "    \n",
    "    \n",
    "model.save('Emotion Recognition.h5')"
   ]
  }
 ],
 "metadata": {
  "kernelspec": {
   "display_name": "Python 3",
   "language": "python",
   "name": "python3"
  },
  "language_info": {
   "codemirror_mode": {
    "name": "ipython",
    "version": 3
   },
   "file_extension": ".py",
   "mimetype": "text/x-python",
   "name": "python",
   "nbconvert_exporter": "python",
   "pygments_lexer": "ipython3",
   "version": "3.7.10"
  },
  "papermill": {
   "default_parameters": {},
   "duration": 4673.357634,
   "end_time": "2021-10-28T23:21:36.992863",
   "environment_variables": {},
   "exception": null,
   "input_path": "__notebook__.ipynb",
   "output_path": "__notebook__.ipynb",
   "parameters": {},
   "start_time": "2021-10-28T22:03:43.635229",
   "version": "2.3.3"
  }
 },
 "nbformat": 4,
 "nbformat_minor": 5
}
